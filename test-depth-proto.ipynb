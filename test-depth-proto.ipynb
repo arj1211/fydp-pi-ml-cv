{
 "cells": [
  {
   "cell_type": "code",
   "execution_count": 1,
   "metadata": {},
   "outputs": [],
   "source": [
    "import numpy as np"
   ]
  },
  {
   "cell_type": "code",
   "execution_count": 2,
   "metadata": {},
   "outputs": [],
   "source": [
    "arr = np.random.randint(256, size=(5,5)).repeat(3).reshape((5,5,3))"
   ]
  },
  {
   "cell_type": "code",
   "execution_count": 3,
   "metadata": {},
   "outputs": [],
   "source": [
    "assert (arr[:,:,0] == arr[:,:,1]).all() and (arr[:,:,1] == arr[:,:,2]).all()"
   ]
  },
  {
   "cell_type": "code",
   "execution_count": 4,
   "metadata": {},
   "outputs": [
    {
     "data": {
      "text/plain": [
       "64"
      ]
     },
     "execution_count": 4,
     "metadata": {},
     "output_type": "execute_result"
    }
   ],
   "source": [
    "n_colors = 4\n",
    "win_sz = 256//n_colors\n",
    "win_sz"
   ]
  },
  {
   "cell_type": "code",
   "execution_count": 5,
   "metadata": {},
   "outputs": [],
   "source": [
    "def hex2rgb(color_in_hex: int):\n",
    "    RGB = []\n",
    "    for i in range(2, -1, -1):\n",
    "        RGB.append((color_in_hex >> 4*2*i) % 16**2)\n",
    "    RGB = tuple(RGB)\n",
    "    return RGB"
   ]
  },
  {
   "cell_type": "code",
   "execution_count": 6,
   "metadata": {},
   "outputs": [],
   "source": [
    "# dark to light\n",
    "colors = [0x65655E, 0x7D80DA, 0xB0A3D4, 0xCEBACF, 0xC6AFB1]\n",
    "colors_rgb = list(map(lambda c: np.array(hex2rgb(c)), colors))"
   ]
  },
  {
   "cell_type": "code",
   "execution_count": 7,
   "metadata": {},
   "outputs": [],
   "source": [
    "i = win_sz\n",
    "c_i = 0\n",
    "while i <= 256:\n",
    "    mask = (i - win_sz <= arr[:,:,0]) & (arr[:,:,0] < i)\n",
    "    arr[mask] = colors_rgb[c_i]\n",
    "    c_i += 1\n",
    "    i += win_sz"
   ]
  },
  {
   "cell_type": "code",
   "execution_count": 8,
   "metadata": {},
   "outputs": [
    {
     "data": {
      "text/plain": [
       "array([[176, 125, 125, 206, 125],\n",
       "       [125, 125, 176, 125, 125],\n",
       "       [125, 176, 125, 125, 125],\n",
       "       [206, 206, 206, 125, 176],\n",
       "       [125, 125, 125, 206, 176]])"
      ]
     },
     "execution_count": 8,
     "metadata": {},
     "output_type": "execute_result"
    }
   ],
   "source": [
    "arr[:,:,0]"
   ]
  },
  {
   "cell_type": "code",
   "execution_count": null,
   "metadata": {},
   "outputs": [],
   "source": []
  },
  {
   "cell_type": "code",
   "execution_count": 10,
   "metadata": {},
   "outputs": [
    {
     "data": {
      "text/plain": [
       "array([[[214, 214, 214],\n",
       "        [176, 176, 176],\n",
       "        [ 39,  39,  39],\n",
       "        [100, 100, 100],\n",
       "        [145, 145, 145]],\n",
       "\n",
       "       [[ 32,  32,  32],\n",
       "        [  4,   4,   4],\n",
       "        [238, 238, 238],\n",
       "        [187, 187, 187],\n",
       "        [ 66,  66,  66]],\n",
       "\n",
       "       [[169, 169, 169],\n",
       "        [137, 137, 137],\n",
       "        [159, 159, 159],\n",
       "        [ 80,  80,  80],\n",
       "        [125, 125, 125]],\n",
       "\n",
       "       [[137, 137, 137],\n",
       "        [158, 158, 158],\n",
       "        [  6,   6,   6],\n",
       "        [ 90,  90,  90],\n",
       "        [ 95,  95,  95]],\n",
       "\n",
       "       [[192, 192, 192],\n",
       "        [150, 150, 150],\n",
       "        [ 52,  52,  52],\n",
       "        [182, 182, 182],\n",
       "        [189, 189, 189]]])"
      ]
     },
     "execution_count": 10,
     "metadata": {},
     "output_type": "execute_result"
    }
   ],
   "source": [
    "arr = np.random.randint(256, size=(5,5)).repeat(3).reshape((5,5,3))\n",
    "arr"
   ]
  },
  {
   "cell_type": "code",
   "execution_count": 19,
   "metadata": {},
   "outputs": [
    {
     "data": {
      "text/plain": [
       "array([  4.,  52.,  95., 137., 159., 187., 238.])"
      ]
     },
     "execution_count": 19,
     "metadata": {},
     "output_type": "execute_result"
    }
   ],
   "source": [
    "qs = np.linspace(0, 1, num=7)\n",
    "\n",
    "np.quantile(arr, q=qs)"
   ]
  },
  {
   "cell_type": "code",
   "execution_count": null,
   "metadata": {},
   "outputs": [],
   "source": []
  }
 ],
 "metadata": {
  "kernelspec": {
   "display_name": "Python 3.9.2 64-bit ('rpi_py_env')",
   "language": "python",
   "name": "python3"
  },
  "language_info": {
   "codemirror_mode": {
    "name": "ipython",
    "version": 3
   },
   "file_extension": ".py",
   "mimetype": "text/x-python",
   "name": "python",
   "nbconvert_exporter": "python",
   "pygments_lexer": "ipython3",
   "version": "3.9.13"
  },
  "orig_nbformat": 4,
  "vscode": {
   "interpreter": {
    "hash": "a81a13ec98f099e0b867ec44adb0f962a7f4a3427a592c5567c69b760a0ee3cd"
   }
  }
 },
 "nbformat": 4,
 "nbformat_minor": 2
}
